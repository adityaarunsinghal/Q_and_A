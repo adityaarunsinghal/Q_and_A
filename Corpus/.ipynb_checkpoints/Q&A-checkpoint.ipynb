{
 "metadata": {
  "name": "",
  "signature": "sha256:e47a20fdaf6c05829fbf65b4766b1944daaab0c102b400ec889d425ca940bbe3"
 },
 "nbformat": 3,
 "nbformat_minor": 0,
 "worksheets": []
}